{
 "cells": [
  {
   "cell_type": "markdown",
   "id": "4e454de9",
   "metadata": {},
   "source": [
    "# Al Jazeera Middle East News Scraper\n",
    "\n",
    "scraping 2000 news articles per month from [Al Jazeera Middle East](https://www.aljazeera.com/middle-east/) for 10 years (2012-2022) using the Firecrawl API."
   ]
  },
  {
   "cell_type": "code",
   "execution_count": 6,
   "id": "45cd333e",
   "metadata": {},
   "outputs": [
    {
     "name": "stdout",
     "output_type": "stream",
     "text": [
      "Requirement already satisfied: firecrawl in c:\\languages\\lib\\site-packages (2.3.0)\n",
      "Requirement already satisfied: requests in c:\\languages\\lib\\site-packages (from firecrawl) (2.32.3)\n",
      "Requirement already satisfied: python-dotenv in c:\\languages\\lib\\site-packages (from firecrawl) (1.1.0)\n",
      "Requirement already satisfied: websockets in c:\\languages\\lib\\site-packages (from firecrawl) (15.0.1)\n",
      "Requirement already satisfied: nest-asyncio in c:\\users\\maurice\\appdata\\roaming\\python\\python313\\site-packages (from firecrawl) (1.6.0)\n",
      "Requirement already satisfied: pydantic in c:\\languages\\lib\\site-packages (from firecrawl) (2.11.3)\n",
      "Requirement already satisfied: aiohttp in c:\\languages\\lib\\site-packages (from firecrawl) (3.11.16)\n",
      "Requirement already satisfied: aiohappyeyeballs>=2.3.0 in c:\\languages\\lib\\site-packages (from aiohttp->firecrawl) (2.6.1)\n",
      "Requirement already satisfied: aiosignal>=1.1.2 in c:\\languages\\lib\\site-packages (from aiohttp->firecrawl) (1.3.2)\n",
      "Requirement already satisfied: attrs>=17.3.0 in c:\\languages\\lib\\site-packages (from aiohttp->firecrawl) (25.3.0)\n",
      "Requirement already satisfied: frozenlist>=1.1.1 in c:\\languages\\lib\\site-packages (from aiohttp->firecrawl) (1.5.0)\n",
      "Requirement already satisfied: multidict<7.0,>=4.5 in c:\\languages\\lib\\site-packages (from aiohttp->firecrawl) (6.4.3)\n",
      "Requirement already satisfied: propcache>=0.2.0 in c:\\languages\\lib\\site-packages (from aiohttp->firecrawl) (0.3.1)\n",
      "Requirement already satisfied: yarl<2.0,>=1.17.0 in c:\\languages\\lib\\site-packages (from aiohttp->firecrawl) (1.20.0)\n",
      "Requirement already satisfied: annotated-types>=0.6.0 in c:\\languages\\lib\\site-packages (from pydantic->firecrawl) (0.7.0)\n",
      "Requirement already satisfied: pydantic-core==2.33.1 in c:\\languages\\lib\\site-packages (from pydantic->firecrawl) (2.33.1)\n",
      "Requirement already satisfied: typing-extensions>=4.12.2 in c:\\languages\\lib\\site-packages (from pydantic->firecrawl) (4.13.2)\n",
      "Requirement already satisfied: typing-inspection>=0.4.0 in c:\\languages\\lib\\site-packages (from pydantic->firecrawl) (0.4.0)\n",
      "Requirement already satisfied: charset-normalizer<4,>=2 in c:\\languages\\lib\\site-packages (from requests->firecrawl) (3.4.1)\n",
      "Requirement already satisfied: idna<4,>=2.5 in c:\\languages\\lib\\site-packages (from requests->firecrawl) (3.10)\n",
      "Requirement already satisfied: urllib3<3,>=1.21.1 in c:\\languages\\lib\\site-packages (from requests->firecrawl) (2.4.0)\n",
      "Requirement already satisfied: certifi>=2017.4.17 in c:\\languages\\lib\\site-packages (from requests->firecrawl) (2025.1.31)\n",
      "Note: you may need to restart the kernel to use updated packages.\n",
      "Collecting bs4\n",
      "  Using cached bs4-0.0.2-py2.py3-none-any.whl.metadata (411 bytes)\n",
      "Collecting beautifulsoup4 (from bs4)\n",
      "  Using cached beautifulsoup4-4.13.4-py3-none-any.whl.metadata (3.8 kB)\n",
      "Collecting soupsieve>1.2 (from beautifulsoup4->bs4)\n",
      "  Using cached soupsieve-2.7-py3-none-any.whl.metadata (4.6 kB)\n",
      "Requirement already satisfied: typing-extensions>=4.0.0 in c:\\languages\\lib\\site-packages (from beautifulsoup4->bs4) (4.13.2)\n",
      "Using cached bs4-0.0.2-py2.py3-none-any.whl (1.2 kB)\n",
      "Using cached beautifulsoup4-4.13.4-py3-none-any.whl (187 kB)\n",
      "Using cached soupsieve-2.7-py3-none-any.whl (36 kB)\n",
      "Installing collected packages: soupsieve, beautifulsoup4, bs4\n",
      "Successfully installed beautifulsoup4-4.13.4 bs4-0.0.2 soupsieve-2.7\n",
      "Note: you may need to restart the kernel to use updated packages.\n"
     ]
    }
   ],
   "source": [
    "# install firecrawl if not installed \n",
    "%pip install firecrawl\n",
    "%pip install bs4"
   ]
  },
  {
   "cell_type": "code",
   "execution_count": null,
   "id": "fbabfb9d",
   "metadata": {},
   "outputs": [],
   "source": [
    "FIRECRAWL_API_KEY = 'fc-ce38ce36fb854e9197959647181a8163'"
   ]
  },
  {
   "cell_type": "markdown",
   "id": "048cf30e",
   "metadata": {},
   "source": [
    "## Scraping Logic\n",
    "\n",
    "- We need maximum of 500 articles per week, so 2000 per month\n",
    "- For each month, paginate through the news archive to collect up to 2000 articles.\n",
    "- Save the title, content, location, and time to a CSV file."
   ]
  },
  {
   "cell_type": "code",
   "execution_count": 7,
   "id": "ed070801",
   "metadata": {},
   "outputs": [
    {
     "name": "stdout",
     "output_type": "stream",
     "text": [
      "Scraping year: 2012\n",
      "Scraping year: 2013\n",
      "Scraping year: 2014\n",
      "Scraping year: 2015\n",
      "Scraping year: 2016\n",
      "Scraping year: 2017\n",
      "Scraping year: 2018\n",
      "Scraping year: 2019\n",
      "Scraping year: 2020\n",
      "Scraping year: 2021\n",
      "Scraping year: 2022\n",
      "Done!\n"
     ]
    }
   ],
   "source": [
    "import requests\n",
    "from bs4 import BeautifulSoup\n",
    "import csv\n",
    "import time\n",
    "\n",
    "base_archive_url = \"https://studies.aljazeera.net/en/news/archive/\"\n",
    "years = list(range(2012, 2023))  # 2012 to 2022\n",
    "\n",
    "def get_article_links(year):\n",
    "    url = f\"{base_archive_url}{year}\"\n",
    "    resp = requests.get(url)\n",
    "    soup = BeautifulSoup(resp.text, \"html.parser\")\n",
    "    articles = []\n",
    "    for card in soup.select(\".views-row\"):\n",
    "        title_tag = card.select_one(\"h3 a\")\n",
    "        date_tag = card.select_one(\".date\")\n",
    "        if title_tag and date_tag:\n",
    "            title = title_tag.get_text(strip=True)\n",
    "            link = \"https://studies.aljazeera.net\" + title_tag['href']\n",
    "            date = date_tag.get_text(strip=True)\n",
    "            articles.append({\"title\": title, \"url\": link, \"date\": date})\n",
    "    return articles\n",
    "\n",
    "def get_article_content(url):\n",
    "    resp = requests.get(url)\n",
    "    soup = BeautifulSoup(resp.text, \"html.parser\")\n",
    "    content_tag = soup.select_one(\".field--name-body\")\n",
    "    content = content_tag.get_text(separator=\"\\n\", strip=True) if content_tag else \"\"\n",
    "    # Location is not always present; you may need to adjust this selector\n",
    "    location = \"\"\n",
    "    return content, location\n",
    "\n",
    "with open(\"aljazeera_studies_2012_2022.csv\", \"w\", encoding=\"utf-8\", newline=\"\") as f:\n",
    "    writer = csv.writer(f)\n",
    "    writer.writerow([\"Title\", \"Content\", \"Location\", \"Date\", \"URL\"])\n",
    "    for year in years:\n",
    "        print(f\"Scraping year: {year}\")\n",
    "        articles = get_article_links(year)\n",
    "        for article in articles:\n",
    "            content, location = get_article_content(article[\"url\"])\n",
    "            writer.writerow([\n",
    "                article[\"title\"],\n",
    "                content,\n",
    "                location,\n",
    "                article[\"date\"],\n",
    "                article[\"url\"]\n",
    "            ])\n",
    "            time.sleep(0.5)  # be polite to the server\n",
    "\n",
    "print(\"Done!\")"
   ]
  }
 ],
 "metadata": {
  "kernelspec": {
   "display_name": "Python 3",
   "language": "python",
   "name": "python3"
  },
  "language_info": {
   "codemirror_mode": {
    "name": "ipython",
    "version": 3
   },
   "file_extension": ".py",
   "mimetype": "text/x-python",
   "name": "python",
   "nbconvert_exporter": "python",
   "pygments_lexer": "ipython3",
   "version": "3.13.3"
  }
 },
 "nbformat": 4,
 "nbformat_minor": 5
}

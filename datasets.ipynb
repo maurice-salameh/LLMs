{
 "cells": [
  {
   "cell_type": "code",
   "execution_count": 3,
   "id": "45cd333e",
   "metadata": {},
   "outputs": [
    {
     "name": "stdout",
     "output_type": "stream",
     "text": [
      "Collecting firecrawl\n",
      "  Downloading firecrawl-2.3.0-py3-none-any.whl.metadata (10 kB)\n",
      "Requirement already satisfied: requests in c:\\languages\\lib\\site-packages (from firecrawl) (2.32.3)\n",
      "Collecting python-dotenv (from firecrawl)\n",
      "  Using cached python_dotenv-1.1.0-py3-none-any.whl.metadata (24 kB)\n",
      "Collecting websockets (from firecrawl)\n",
      "  Downloading websockets-15.0.1-cp313-cp313-win_amd64.whl.metadata (7.0 kB)\n",
      "Requirement already satisfied: nest-asyncio in c:\\users\\maurice\\appdata\\roaming\\python\\python313\\site-packages (from firecrawl) (1.6.0)\n",
      "Collecting pydantic (from firecrawl)\n",
      "  Using cached pydantic-2.11.3-py3-none-any.whl.metadata (65 kB)\n",
      "Requirement already satisfied: aiohttp in c:\\languages\\lib\\site-packages (from firecrawl) (3.11.16)\n",
      "Requirement already satisfied: aiohappyeyeballs>=2.3.0 in c:\\languages\\lib\\site-packages (from aiohttp->firecrawl) (2.6.1)\n",
      "Requirement already satisfied: aiosignal>=1.1.2 in c:\\languages\\lib\\site-packages (from aiohttp->firecrawl) (1.3.2)\n",
      "Requirement already satisfied: attrs>=17.3.0 in c:\\languages\\lib\\site-packages (from aiohttp->firecrawl) (25.3.0)\n",
      "Requirement already satisfied: frozenlist>=1.1.1 in c:\\languages\\lib\\site-packages (from aiohttp->firecrawl) (1.5.0)\n",
      "Requirement already satisfied: multidict<7.0,>=4.5 in c:\\languages\\lib\\site-packages (from aiohttp->firecrawl) (6.4.3)\n",
      "Requirement already satisfied: propcache>=0.2.0 in c:\\languages\\lib\\site-packages (from aiohttp->firecrawl) (0.3.1)\n",
      "Requirement already satisfied: yarl<2.0,>=1.17.0 in c:\\languages\\lib\\site-packages (from aiohttp->firecrawl) (1.20.0)\n",
      "Collecting annotated-types>=0.6.0 (from pydantic->firecrawl)\n",
      "  Using cached annotated_types-0.7.0-py3-none-any.whl.metadata (15 kB)\n",
      "Collecting pydantic-core==2.33.1 (from pydantic->firecrawl)\n",
      "  Downloading pydantic_core-2.33.1-cp313-cp313-win_amd64.whl.metadata (6.9 kB)\n",
      "Requirement already satisfied: typing-extensions>=4.12.2 in c:\\languages\\lib\\site-packages (from pydantic->firecrawl) (4.13.2)\n",
      "Collecting typing-inspection>=0.4.0 (from pydantic->firecrawl)\n",
      "  Using cached typing_inspection-0.4.0-py3-none-any.whl.metadata (2.6 kB)\n",
      "Requirement already satisfied: charset-normalizer<4,>=2 in c:\\languages\\lib\\site-packages (from requests->firecrawl) (3.4.1)\n",
      "Requirement already satisfied: idna<4,>=2.5 in c:\\languages\\lib\\site-packages (from requests->firecrawl) (3.10)\n",
      "Requirement already satisfied: urllib3<3,>=1.21.1 in c:\\languages\\lib\\site-packages (from requests->firecrawl) (2.4.0)\n",
      "Requirement already satisfied: certifi>=2017.4.17 in c:\\languages\\lib\\site-packages (from requests->firecrawl) (2025.1.31)\n",
      "Downloading firecrawl-2.3.0-py3-none-any.whl (37 kB)\n",
      "Using cached pydantic-2.11.3-py3-none-any.whl (443 kB)\n",
      "Downloading pydantic_core-2.33.1-cp313-cp313-win_amd64.whl (2.0 MB)\n",
      "   ---------------------------------------- 0.0/2.0 MB ? eta -:--:--\n",
      "   ---------------------------------------- 0.0/2.0 MB ? eta -:--:--\n",
      "   ---------------------------------------- 0.0/2.0 MB ? eta -:--:--\n",
      "   ---------------------------------------- 0.0/2.0 MB ? eta -:--:--\n",
      "   ---------------------------------------- 0.0/2.0 MB ? eta -:--:--\n",
      "   ----- ---------------------------------- 0.3/2.0 MB ? eta -:--:--\n",
      "   ----- ---------------------------------- 0.3/2.0 MB ? eta -:--:--\n",
      "   ----- ---------------------------------- 0.3/2.0 MB ? eta -:--:--\n",
      "   ----- ---------------------------------- 0.3/2.0 MB ? eta -:--:--\n",
      "   ---------- ----------------------------- 0.5/2.0 MB 301.0 kB/s eta 0:00:05\n",
      "   ---------- ----------------------------- 0.5/2.0 MB 301.0 kB/s eta 0:00:05\n",
      "   ---------- ----------------------------- 0.5/2.0 MB 301.0 kB/s eta 0:00:05\n",
      "   ---------- ----------------------------- 0.5/2.0 MB 301.0 kB/s eta 0:00:05\n",
      "   ---------- ----------------------------- 0.5/2.0 MB 301.0 kB/s eta 0:00:05\n",
      "   ---------------- ----------------------- 0.8/2.0 MB 271.5 kB/s eta 0:00:05\n",
      "   ---------------- ----------------------- 0.8/2.0 MB 271.5 kB/s eta 0:00:05\n",
      "   ---------------- ----------------------- 0.8/2.0 MB 271.5 kB/s eta 0:00:05\n",
      "   ---------------- ----------------------- 0.8/2.0 MB 271.5 kB/s eta 0:00:05\n",
      "   --------------------- ------------------ 1.0/2.0 MB 283.1 kB/s eta 0:00:04\n",
      "   --------------------- ------------------ 1.0/2.0 MB 283.1 kB/s eta 0:00:04\n",
      "   --------------------- ------------------ 1.0/2.0 MB 283.1 kB/s eta 0:00:04\n",
      "   --------------------- ------------------ 1.0/2.0 MB 283.1 kB/s eta 0:00:04\n",
      "   -------------------------- ------------- 1.3/2.0 MB 293.8 kB/s eta 0:00:03\n",
      "   -------------------------- ------------- 1.3/2.0 MB 293.8 kB/s eta 0:00:03\n",
      "   -------------------------- ------------- 1.3/2.0 MB 293.8 kB/s eta 0:00:03\n",
      "   -------------------------- ------------- 1.3/2.0 MB 293.8 kB/s eta 0:00:03\n",
      "   -------------------------------- ------- 1.6/2.0 MB 296.4 kB/s eta 0:00:02\n",
      "   -------------------------------- ------- 1.6/2.0 MB 296.4 kB/s eta 0:00:02\n",
      "   -------------------------------- ------- 1.6/2.0 MB 296.4 kB/s eta 0:00:02\n",
      "   -------------------------------- ------- 1.6/2.0 MB 296.4 kB/s eta 0:00:02\n",
      "   -------------------------------- ------- 1.6/2.0 MB 296.4 kB/s eta 0:00:02\n",
      "   -------------------------------- ------- 1.6/2.0 MB 296.4 kB/s eta 0:00:02\n",
      "   -------------------------------- ------- 1.6/2.0 MB 296.4 kB/s eta 0:00:02\n",
      "   -------------------------------- ------- 1.6/2.0 MB 296.4 kB/s eta 0:00:02\n",
      "   ------------------------------------- -- 1.8/2.0 MB 251.0 kB/s eta 0:00:01\n",
      "   ------------------------------------- -- 1.8/2.0 MB 251.0 kB/s eta 0:00:01\n",
      "   ------------------------------------- -- 1.8/2.0 MB 251.0 kB/s eta 0:00:01\n",
      "   ---------------------------------------- 2.0/2.0 MB 251.0 kB/s eta 0:00:00\n",
      "Using cached python_dotenv-1.1.0-py3-none-any.whl (20 kB)\n",
      "Downloading websockets-15.0.1-cp313-cp313-win_amd64.whl (176 kB)\n",
      "Using cached annotated_types-0.7.0-py3-none-any.whl (13 kB)\n",
      "Using cached typing_inspection-0.4.0-py3-none-any.whl (14 kB)\n",
      "Installing collected packages: websockets, typing-inspection, python-dotenv, pydantic-core, annotated-types, pydantic, firecrawl\n",
      "Successfully installed annotated-types-0.7.0 firecrawl-2.3.0 pydantic-2.11.3 pydantic-core-2.33.1 python-dotenv-1.1.0 typing-inspection-0.4.0 websockets-15.0.1\n",
      "Note: you may need to restart the kernel to use updated packages.\n"
     ]
    }
   ],
   "source": [
    "# install firecrawl if not installed \n",
    "%pip install firecrawl"
   ]
  },
  {
   "cell_type": "code",
   "execution_count": 1,
   "id": "fbabfb9d",
   "metadata": {},
   "outputs": [],
   "source": [
    "FIRECRAWL_API_KEY = 'fc-ce38ce36fb854e9197959647181a8163'"
   ]
  },
  {
   "cell_type": "code",
   "execution_count": 4,
   "id": "9f12e906",
   "metadata": {},
   "outputs": [
    {
     "name": "stdout",
     "output_type": "stream",
     "text": [
      "Found 0 articles.\n"
     ]
    }
   ],
   "source": [
    "from firecrawl import FirecrawlApp\n",
    "\n",
    "# Initialize the FirecrawlApp with your API key\n",
    "app = FirecrawlApp(api_key=FIRECRAWL_API_KEY)\n",
    "\n",
    "# Scrape the Al Arabiya Middle East News page\n",
    "scrape_result = app.scrape_url(\n",
    "    url=\"https://english.alarabiya.net/News/middle-east\",\n",
    "    formats=[\"markdown\", \"html\"]\n",
    ")\n",
    "\n",
    "# Extract articles from the scrape result\n",
    "articles = scrape_result.articles if hasattr(scrape_result, 'articles') else []\n",
    "print(f\"Found {len(articles)} articles.\")\n",
    "\n",
    "# Save the results to a file\n",
    "with open('arab_dataset.csv', 'w', encoding='utf-8') as file:\n",
    "    # Write the header\n",
    "    file.write(\"Title,Link,Date,Content\\n\")\n",
    "    \n",
    "    # Write the data\n",
    "    for article in articles:\n",
    "        title = article.get('title', '').replace(',', ' ')  # Remove commas from title\n",
    "        link = article.get('link', '')\n",
    "        date = article.get('date', '')\n",
    "        content = article.get('content', '').replace(',', ' ')  # Remove commas from content\n",
    "        file.write(f\"{title},{link},{date},{content}\\n\")"
   ]
  }
 ],
 "metadata": {
  "kernelspec": {
   "display_name": "Python 3",
   "language": "python",
   "name": "python3"
  },
  "language_info": {
   "codemirror_mode": {
    "name": "ipython",
    "version": 3
   },
   "file_extension": ".py",
   "mimetype": "text/x-python",
   "name": "python",
   "nbconvert_exporter": "python",
   "pygments_lexer": "ipython3",
   "version": "3.13.3"
  }
 },
 "nbformat": 4,
 "nbformat_minor": 5
}
